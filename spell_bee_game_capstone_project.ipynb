{
  "nbformat": 4,
  "nbformat_minor": 0,
  "metadata": {
    "colab": {
      "provenance": [],
      "include_colab_link": true
    },
    "kernelspec": {
      "name": "python3",
      "display_name": "Python 3"
    }
  },
  "cells": [
    {
      "cell_type": "markdown",
      "metadata": {
        "id": "view-in-github",
        "colab_type": "text"
      },
      "source": [
        "<a href=\"https://colab.research.google.com/github/Dishapapiya/spell_bee_game/blob/main/spell_bee_game_capstone_project.ipynb\" target=\"_parent\"><img src=\"https://colab.research.google.com/assets/colab-badge.svg\" alt=\"Open In Colab\"/></a>"
      ]
    },
    {
      "cell_type": "markdown",
      "metadata": {
        "id": "UYmMpXkNw9I6"
      },
      "source": [
        "# Capstone Project 9: Guess the word - Python String Operation"
      ]
    },
    {
      "cell_type": "markdown",
      "metadata": {
        "id": "G9pdov_M0nzo"
      },
      "source": [
        "---"
      ]
    },
    {
      "cell_type": "markdown",
      "metadata": {
        "id": "2i36Yv3-MPY5"
      },
      "source": [
        "### Problem Statement \n",
        "\n",
        "In this project, you have to write a computer program to create an interactive game application called **Guess the Word**. The game must have the following major components:\n",
        "\n",
        "1. A repository of English words.\n",
        "\n",
        "2. A function to jumble the letters of the English words. \n",
        "\n",
        "3. Display a word such that its letters are jumbled, its part of speech and its meaning. Then prompt the player to guess the word one-by-one.  \n",
        "\n",
        "6. Check whether the player had guessed the correct word.\n",
        "\n",
        "7. Keep a count of the player's correct guesses. \n"
      ]
    },
    {
      "cell_type": "markdown",
      "metadata": {
        "id": "UyYUfSu3fJkj"
      },
      "source": [
        "---"
      ]
    },
    {
      "cell_type": "markdown",
      "metadata": {
        "id": "toeLx5LJpIV-"
      },
      "source": [
        "### Project Requirements\n",
        "\n",
        "1. Create the `my_words` tuple which should contain the following 10 words,\n",
        "\n",
        "    - Questionnaire\n",
        "\n",
        "    - Unconscious\n",
        "\n",
        "    - Precocious\n",
        "\n",
        "    - Liaison\n",
        "\n",
        "    - Surveillance\n",
        "\n",
        "    - Malfeasance\n",
        "\n",
        "    - Irascible\n",
        "\n",
        "    - Idiosyncrasy\n",
        "\n",
        "    - Foudroyant\n",
        "\n",
        "    - Eudemonic \n",
        "\n",
        "2. Create the `score` variable with initial value as `0`, to store the counts of the player's guess.\n",
        "\n",
        "2. Create the `shuffler()` function which returns a string having jumbled letters of a word.\n",
        "\n",
        "4. Create a `for` to run the game.\n",
        "\n",
        "5. Once the player has completed guessing all the words, display `Game Over!` message along with the final score.\n",
        "  ```\n",
        "  Game Over!\n",
        "  Kakashi, Your score is 6.\n",
        "  ```"
      ]
    },
    {
      "cell_type": "markdown",
      "metadata": {
        "id": "5JRlGIBRqCGl"
      },
      "source": [
        "---"
      ]
    },
    {
      "cell_type": "markdown",
      "metadata": {
        "id": "UCusTfW0tcxe"
      },
      "source": [
        "#### 1. Words & Score\n",
        "\n",
        "- Create the `my_words` tuple which should contain the following 10 words,\n",
        "\n",
        "    - Questionnaire\n",
        "\n",
        "    - Unconscious\n",
        "\n",
        "    - Precocious\n",
        "\n",
        "    - Liaison\n",
        "\n",
        "    - Surveillance\n",
        "\n",
        "    - Malfeasance\n",
        "\n",
        "    - Irascible\n",
        "\n",
        "    - Idiosyncrasy\n",
        "\n",
        "    - Foudroyant\n",
        "\n",
        "    - Eudemonic \n",
        "\n",
        "- Create the `score` variable with initial value as `0`, to store the counts of the player's guess."
      ]
    },
    {
      "cell_type": "code",
      "metadata": {
        "id": "6RL71w3ntzcH"
      },
      "source": [
        "# Create the 'my_words' tuple and the 'score' variable.\n",
        "my_words = ('questionnaire', 'unconscious', 'precocious', 'liaison', 'surveillance', 'malfeasance', 'irascible', 'idiosyncrasy', 'foudroyant', 'eudemonic')\n",
        "score = 0"
      ],
      "execution_count": null,
      "outputs": []
    },
    {
      "cell_type": "markdown",
      "metadata": {
        "id": "RETr5Tv1JBls"
      },
      "source": [
        "---"
      ]
    },
    {
      "cell_type": "markdown",
      "metadata": {
        "id": "0_OEabQbGQcP"
      },
      "source": [
        "#### 2. The `shuffler()` Function\n",
        "\n",
        "- Create the `shuffler()` function which returns a string containing the jumbled letters of a word. E.g., The `shuffler()` function must return either `wims` or `mwsi` or `imsw` etc. for the word `swim`.\n",
        "\n",
        "- Convert the word into a list of letters using the `list()` function. \n",
        "\n",
        "- Use the `shuffle()` function of the `random` module to shuffle the letters from a word. It reorders the items in a Python list. E.g., if a list contains `['s', 'w', 'i', 'm']` items, then the `shuffle()` function will reorder the items as either `['w', 's', 'i', 'm']`, or `['s', 'w', 'm', 'i']` or `['i', 's', 'm', 'w']` etc.\n",
        "\n",
        "  **Syntax** : `random.shuffle(letters)`, where letters is the variable holding the list of letters.\n",
        "\n",
        "- Use the `join()` function to convert a list of jumbled letters into a word.\n",
        "\n",
        "  **Syntax**: `''.join(letters)`, where letters is the variable holding the list of letters.\n",
        "\n",
        "**Note:** The `random.shuffle()` function does not return a new output. It applies the operation on the original value. Hence, the updated value will replace the original value contained in a variable."
      ]
    },
    {
      "cell_type": "code",
      "metadata": {
        "id": "mROhcvIy0ML6",
        "colab": {
          "base_uri": "https://localhost:8080/",
          "height": 35
        },
        "outputId": "765d2b02-7bb7-4778-8d25-f5cde9f4f006"
      },
      "source": [
        "# Create the 'shuffler()' function to to jumble the letters of a word and form a jumbled word.\n",
        "import random\n",
        "\n",
        "def shuffler(word):\n",
        "  letters = list(word)\n",
        "  random.shuffle(letters)\n",
        "  shuffled_word = ''.join(letters)\n",
        "  return(shuffled_word)\n",
        "\n",
        "shuffler('swim')"
      ],
      "execution_count": null,
      "outputs": [
        {
          "output_type": "execute_result",
          "data": {
            "text/plain": [
              "'iwsm'"
            ],
            "application/vnd.google.colaboratory.intrinsic+json": {
              "type": "string"
            }
          },
          "metadata": {},
          "execution_count": 3
        }
      ]
    },
    {
      "cell_type": "markdown",
      "metadata": {
        "id": "aJJT0ojPGPcd"
      },
      "source": [
        "---"
      ]
    },
    {
      "cell_type": "markdown",
      "metadata": {
        "id": "rZsDogK8LaOW"
      },
      "source": [
        "#### 3. The Remaining Components\n",
        "\n",
        "Before creating the `for` loop, print the title of the game. Here's the expected output:\n",
        "\n",
        "```\n",
        "-----------------------------GUESS A WORD GAME--------------------------------\n",
        "```\n",
        "\n",
        "The title is centre justified and the total length of the string is 120.\n",
        "\n",
        "Prompt a player to enter their name. You should also tell the player, to enter `s` as an input to stop the game midway. \n",
        "\n",
        "Then create a `for` loop which should do the following:\n",
        "\n",
        "1. Display the jumbled letters of a word in uppercase, the part of speech for the word in uppercase and the meaning of the word in uppercase. Here's an example of the expected output:\n",
        "\n",
        "   `Jumbled Letters: UQSTOAEREIINN`\n",
        "\n",
        "2. Take input from the user (the guessed word) and convert it into uppercase.\n",
        "\n",
        "3. If the player's input is `s`, terminate the loop using the `break` keyword.\n",
        "\n",
        "4. Else if the player's guess is correct, show the `CORRECT!` message and increase player's guess count stored in `score` variable by 1.\n",
        "\n",
        "5. Else, show the `WRONG!` message. Also, display the correct word. Here's an example of the expected output:\n",
        "\n",
        "   ```\n",
        "   Guess the word:\n",
        "   mealfeseance\n",
        "\n",
        "   WRONG! \n",
        "   Correct word is MALFEASANCE \n",
        "   ```\n",
        "\n",
        "6. Once the player has completed guessing all the words, display `Game Over!` message along with the final score.\n",
        "  ```\n",
        "  Game Over!\n",
        "  Kakashi, Your score is 6.\n",
        "  ```\n",
        " "
      ]
    },
    {
      "cell_type": "code",
      "metadata": {
        "id": "8HV3cY6O9LeE",
        "colab": {
          "base_uri": "https://localhost:8080/"
        },
        "outputId": "5a54e140-65a3-4d06-91e8-f76af9ebb3ed"
      },
      "source": [
        "# Check whether player's guess is correct or not\n",
        "just_len = 100\n",
        "\n",
        "# Print the title 'GUESS A WORD GAME' center aligned\n",
        "print(\"guess a word game\".upper().center(just_len, '-'))\n",
        "\n",
        "# Get the player's name and store in a variable\n",
        "player_name = input(\"\\nWhat's your name?\\n\")\n",
        "\n",
        "# Print the terminate message 'Type 's' to stop the game at any time.'\n",
        "print(f\"\\nType 's' to stop the game at any time.\\n{'#' * just_len}\") \n",
        "\n",
        "# Create the 'for' loop and follow the above steps.\n",
        "for word in my_words:\n",
        "  shuffled_word = shuffler(word)\n",
        "  while shuffled_word == word:\n",
        "    shuffled_word = shuffler(word)\n",
        "\n",
        "  # Ask the user to 'Guess the word:' and store the word in a variable\n",
        "  player_guess = input(f\"Guess the correct Word : {shuffled_word.upper()} \\n\")\n",
        "  # Convert the player guess to upper case using the 'upper()' function\n",
        "  player_guess_upper = player_guess.upper() \n",
        "\n",
        "  # If player enters 's' then terminate the 'for' loop using 'break' keyword  \n",
        "  if player_guess == 's':\n",
        "    break\n",
        "  # If the player's guess is correct print 'Correct!!' and increase the 'score' by 1.\n",
        "  if player_guess_upper == word.upper():\n",
        "    print(f\"\\nCorrect!! \\n\")\n",
        "    score = score + 1\n",
        "  # Else print 'WRONG! Correct word is (correct_word)'\n",
        "  else:\n",
        "    print(f\"\\nWRONG! \\nCorrect word is {word.upper()} \\n{'#' * just_len} \\n\")\n",
        "  \n",
        "  "
      ],
      "execution_count": null,
      "outputs": [
        {
          "name": "stdout",
          "output_type": "stream",
          "text": [
            "-----------------------------------------GUESS A WORD GAME------------------------------------------\n",
            "\n",
            "What's your name?\n",
            "papiya\n",
            "\n",
            "Type 's' to stop the game at any time.\n",
            "####################################################################################################\n",
            "Guess the correct Word : UETIQENORISNA \n",
            "nortiquwsna\n",
            "\n",
            "WRONG! \n",
            "Correct word is QUESTIONNAIRE \n",
            "#################################################################################################### \n",
            "\n",
            "Guess the correct Word : CUNINSOUSCO \n",
            "unconcious\n",
            "\n",
            "WRONG! \n",
            "Correct word is UNCONSCIOUS \n",
            "#################################################################################################### \n",
            "\n",
            "Guess the correct Word : ICPSEROCOU \n",
            "s\n"
          ]
        }
      ]
    },
    {
      "cell_type": "markdown",
      "metadata": {
        "id": "gdgW4-R6LVB3"
      },
      "source": [
        "---"
      ]
    },
    {
      "cell_type": "markdown",
      "metadata": {
        "id": "NyHSsEwEoEvH"
      },
      "source": [
        "#### 4. Final score\n",
        "\n",
        "Finally, show `Game Over!` after player has completed guessing the 10 words and show the final score stored in `score` variable.\n",
        "\n",
        "For Example, if the player had guessed 3 correct words you should be displaying the final score message as,\n",
        "```\n",
        "  Game Over!\n",
        "  Kakashi, Your score is 3.\n",
        "  ```"
      ]
    },
    {
      "cell_type": "code",
      "metadata": {
        "id": "-QAIIkM1qCNr",
        "colab": {
          "base_uri": "https://localhost:8080/"
        },
        "outputId": "d388cad0-e967-4ef4-e846-5eae35e0e1ad"
      },
      "source": [
        "# Display 'Game Over' and Final score to the player\n",
        "print(f\"Game Over! \\n{player_name}, Your score is {score}.\")    "
      ],
      "execution_count": null,
      "outputs": [
        {
          "output_type": "stream",
          "name": "stdout",
          "text": [
            "Game Over! \n",
            "papiya, Your score is 0.\n"
          ]
        }
      ]
    },
    {
      "cell_type": "markdown",
      "metadata": {
        "id": "4qIsQMIj-Is3"
      },
      "source": [
        "---"
      ]
    }
  ]
}